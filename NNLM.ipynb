{
 "cells": [
  {
   "cell_type": "code",
   "execution_count": 29,
   "metadata": {},
   "outputs": [],
   "source": [
    "#import keras\n",
    "import tensorflow as tf"
   ]
  },
  {
   "cell_type": "code",
   "execution_count": 2,
   "metadata": {
    "collapsed": true
   },
   "outputs": [],
   "source": [
    "from nltk.tokenize import word_tokenize"
   ]
  },
  {
   "cell_type": "code",
   "execution_count": 3,
   "metadata": {
    "collapsed": true
   },
   "outputs": [],
   "source": [
    "from sklearn.feature_extraction.text import CountVectorizer"
   ]
  },
  {
   "cell_type": "code",
   "execution_count": 4,
   "metadata": {
    "collapsed": true
   },
   "outputs": [],
   "source": [
    "text = [\"I am a boy\", \"She is a girl\"]\n",
    "vect = CountVectorizer(tokenizer=word_tokenize).fit(text)"
   ]
  },
  {
   "cell_type": "code",
   "execution_count": 21,
   "metadata": {
    "collapsed": true
   },
   "outputs": [],
   "source": [
    "x_train = []\n",
    "y_train = []"
   ]
  },
  {
   "cell_type": "code",
   "execution_count": 22,
   "metadata": {
    "collapsed": true
   },
   "outputs": [],
   "source": [
    "tokenized_words = word_tokenize(\"I am a boy She is a girl\")"
   ]
  },
  {
   "cell_type": "code",
   "execution_count": 23,
   "metadata": {
    "collapsed": true
   },
   "outputs": [],
   "source": [
    "for i in range(len(tokenized_words)-3):\n",
    "    x_train.append(vect.transform([tokenized_words[i],tokenized_words[i+1],tokenized_words[i+2]]).toarray())\n",
    "    y_train.append(vect.transform([tokenized_words[i+3]]).toarray())"
   ]
  },
  {
   "cell_type": "code",
   "execution_count": 24,
   "metadata": {},
   "outputs": [
    {
     "data": {
      "text/plain": [
       "[array([[0, 0, 0, 0, 1, 0, 0],\n",
       "        [0, 1, 0, 0, 0, 0, 0],\n",
       "        [1, 0, 0, 0, 0, 0, 0]], dtype=int64), array([[0, 1, 0, 0, 0, 0, 0],\n",
       "        [1, 0, 0, 0, 0, 0, 0],\n",
       "        [0, 0, 1, 0, 0, 0, 0]], dtype=int64), array([[1, 0, 0, 0, 0, 0, 0],\n",
       "        [0, 0, 1, 0, 0, 0, 0],\n",
       "        [0, 0, 0, 0, 0, 0, 1]], dtype=int64), array([[0, 0, 1, 0, 0, 0, 0],\n",
       "        [0, 0, 0, 0, 0, 0, 1],\n",
       "        [0, 0, 0, 0, 0, 1, 0]], dtype=int64), array([[0, 0, 0, 0, 0, 0, 1],\n",
       "        [0, 0, 0, 0, 0, 1, 0],\n",
       "        [1, 0, 0, 0, 0, 0, 0]], dtype=int64)]"
      ]
     },
     "execution_count": 24,
     "metadata": {},
     "output_type": "execute_result"
    }
   ],
   "source": [
    "x_train"
   ]
  },
  {
   "cell_type": "code",
   "execution_count": 25,
   "metadata": {},
   "outputs": [
    {
     "data": {
      "text/plain": [
       "[array([[0, 0, 1, 0, 0, 0, 0]], dtype=int64),\n",
       " array([[0, 0, 0, 0, 0, 0, 1]], dtype=int64),\n",
       " array([[0, 0, 0, 0, 0, 1, 0]], dtype=int64),\n",
       " array([[1, 0, 0, 0, 0, 0, 0]], dtype=int64),\n",
       " array([[0, 0, 0, 1, 0, 0, 0]], dtype=int64)]"
      ]
     },
     "execution_count": 25,
     "metadata": {},
     "output_type": "execute_result"
    }
   ],
   "source": [
    "y_train"
   ]
  },
  {
   "cell_type": "code",
   "execution_count": 30,
   "metadata": {},
   "outputs": [],
   "source": [
    "X = tf.placeholder(tf.float32, [3,7]) #x_train의 각 값을 넣을 것임 \n",
    "W = tf.Variable(tf.random_normal([7, 2], seed=0))\n",
    "b = tf.Variable(tf.random_normal([3,2], seed=0))\n",
    "expr = tf.matmul(X, W) + b"
   ]
  },
  {
   "cell_type": "code",
   "execution_count": 45,
   "metadata": {},
   "outputs": [
    {
     "name": "stdout",
     "output_type": "stream",
     "text": [
      "[array([-1.35984671,  1.45334113,  0.34214449,  1.09303629, -2.82256031,\n",
      "        2.52699327], dtype=float32), array([-0.22808537,  2.65095735, -0.22808537,  2.65095735, -4.84680557,\n",
      "        0.84510797], dtype=float32), array([-0.79831523,  4.20887852, -2.25233054,  0.9690721 , -3.72431469,\n",
      "       -0.08132169], dtype=float32), array([-2.82256031,  2.52699327, -1.12983978,  0.04264247, -2.30886912,\n",
      "        0.3190062 ], dtype=float32), array([-1.70006967,  1.60056353,  0.28560585,  0.44297037, -2.82256031,\n",
      "        2.52699327], dtype=float32)]\n"
     ]
    }
   ],
   "source": [
    "x_data = []\n",
    "# 차원 축소 및 flatten\n",
    "for i in range(5):\n",
    "    sess = tf.Session()\n",
    "    sess.run(tf.global_variables_initializer())\n",
    "    #print(\"=== W ===\")\n",
    "    #print(sess.run(W))\n",
    "    #print(\"=== b ===\")\n",
    "    #print(sess.run(b))\n",
    "    x_data.append(sess.run(expr, feed_dict={X: x_train[i]}).flatten())\n",
    "\n",
    "print(x_data)"
   ]
  },
  {
   "cell_type": "code",
   "execution_count": null,
   "metadata": {
    "collapsed": true
   },
   "outputs": [],
   "source": []
  },
  {
   "cell_type": "code",
   "execution_count": 27,
   "metadata": {},
   "outputs": [],
   "source": [
    "# x_list = []\n",
    "# for i in range(3):\n",
    "#     for j in range(7):\n",
    "#         x_list.append(x_train[0][i][j])\n",
    "# x_data.append(x_list)\n",
    "\n",
    "#np.random.random((5,7))"
   ]
  },
  {
   "cell_type": "code",
   "execution_count": 149,
   "metadata": {
    "collapsed": true
   },
   "outputs": [],
   "source": [
    "x_data = np.array(x_data)"
   ]
  },
  {
   "cell_type": "code",
   "execution_count": 153,
   "metadata": {},
   "outputs": [
    {
     "data": {
      "text/plain": [
       "array([0, 1, 0, 0, 0, 0, 0, 1, 0, 0, 0, 0, 0, 0, 0, 0, 1, 0, 0, 0, 0], dtype=int64)"
      ]
     },
     "execution_count": 153,
     "metadata": {},
     "output_type": "execute_result"
    }
   ],
   "source": [
    "x_data[1]"
   ]
  },
  {
   "cell_type": "code",
   "execution_count": 46,
   "metadata": {},
   "outputs": [
    {
     "name": "stderr",
     "output_type": "stream",
     "text": [
      "Using TensorFlow backend.\n"
     ]
    }
   ],
   "source": [
    "from keras.models import Model\n",
    "from keras.layers import Dense, Input"
   ]
  },
  {
   "cell_type": "code",
   "execution_count": 58,
   "metadata": {},
   "outputs": [],
   "source": [
    "x = Input([6,])\n",
    "h = Dense(64, activation='tanh')(x)\n",
    "y = Dense(7, activation='softmax')(h)"
   ]
  },
  {
   "cell_type": "code",
   "execution_count": 59,
   "metadata": {},
   "outputs": [
    {
     "name": "stdout",
     "output_type": "stream",
     "text": [
      "_________________________________________________________________\n",
      "Layer (type)                 Output Shape              Param #   \n",
      "=================================================================\n",
      "input_6 (InputLayer)         (None, 6)                 0         \n",
      "_________________________________________________________________\n",
      "dense_9 (Dense)              (None, 64)                448       \n",
      "_________________________________________________________________\n",
      "dense_10 (Dense)             (None, 7)                 455       \n",
      "=================================================================\n",
      "Total params: 903\n",
      "Trainable params: 903\n",
      "Non-trainable params: 0\n",
      "_________________________________________________________________\n"
     ]
    }
   ],
   "source": [
    "model = Model(x,y)\n",
    "model.summary()"
   ]
  },
  {
   "cell_type": "code",
   "execution_count": 60,
   "metadata": {
    "collapsed": true
   },
   "outputs": [],
   "source": [
    "model.compile(loss=\"categorical_crossentropy\", optimizer='sgd', metrics=['accuracy'])"
   ]
  },
  {
   "cell_type": "code",
   "execution_count": 64,
   "metadata": {},
   "outputs": [],
   "source": [
    "import numpy as np"
   ]
  },
  {
   "cell_type": "code",
   "execution_count": 67,
   "metadata": {},
   "outputs": [],
   "source": [
    "x_data = np.array(x_data).reshape(5,6)"
   ]
  },
  {
   "cell_type": "code",
   "execution_count": 70,
   "metadata": {},
   "outputs": [],
   "source": [
    "y_train = np.array(y_train).reshape(5,7)"
   ]
  },
  {
   "cell_type": "code",
   "execution_count": 87,
   "metadata": {},
   "outputs": [
    {
     "name": "stdout",
     "output_type": "stream",
     "text": [
      "Epoch 1/100\n",
      "5/5 [==============================] - 0s 600us/step - loss: 1.9199 - acc: 0.2000\n",
      "Epoch 2/100\n",
      "5/5 [==============================] - 0s 601us/step - loss: 1.8609 - acc: 0.2000\n",
      "Epoch 3/100\n",
      "5/5 [==============================] - 0s 600us/step - loss: 1.8063 - acc: 0.2000\n",
      "Epoch 4/100\n",
      "5/5 [==============================] - 0s 601us/step - loss: 1.7553 - acc: 0.2000\n",
      "Epoch 5/100\n",
      "5/5 [==============================] - 0s 601us/step - loss: 1.7078 - acc: 0.4000\n",
      "Epoch 6/100\n",
      "5/5 [==============================] - 0s 601us/step - loss: 1.6632 - acc: 0.4000\n",
      "Epoch 7/100\n",
      "5/5 [==============================] - 0s 600us/step - loss: 1.6213 - acc: 0.4000\n",
      "Epoch 8/100\n",
      "5/5 [==============================] - 0s 601us/step - loss: 1.5819 - acc: 0.4000\n",
      "Epoch 9/100\n",
      "5/5 [==============================] - 0s 601us/step - loss: 1.5446 - acc: 0.4000\n",
      "Epoch 10/100\n",
      "5/5 [==============================] - 0s 600us/step - loss: 1.5095 - acc: 0.4000\n",
      "Epoch 11/100\n",
      "5/5 [==============================] - 0s 600us/step - loss: 1.4762 - acc: 0.4000\n",
      "Epoch 12/100\n",
      "5/5 [==============================] - 0s 601us/step - loss: 1.4446 - acc: 0.6000\n",
      "Epoch 13/100\n",
      "5/5 [==============================] - 0s 400us/step - loss: 1.4147 - acc: 0.6000\n",
      "Epoch 14/100\n",
      "5/5 [==============================] - 0s 600us/step - loss: 1.3862 - acc: 0.6000\n",
      "Epoch 15/100\n",
      "5/5 [==============================] - 0s 401us/step - loss: 1.3592 - acc: 0.6000\n",
      "Epoch 16/100\n",
      "5/5 [==============================] - 0s 601us/step - loss: 1.3334 - acc: 0.6000\n",
      "Epoch 17/100\n",
      "5/5 [==============================] - 0s 400us/step - loss: 1.3089 - acc: 0.6000\n",
      "Epoch 18/100\n",
      "5/5 [==============================] - 0s 400us/step - loss: 1.2854 - acc: 0.6000\n",
      "Epoch 19/100\n",
      "5/5 [==============================] - 0s 400us/step - loss: 1.2630 - acc: 0.6000\n",
      "Epoch 20/100\n",
      "5/5 [==============================] - 0s 400us/step - loss: 1.2416 - acc: 0.6000\n",
      "Epoch 21/100\n",
      "5/5 [==============================] - 0s 600us/step - loss: 1.2211 - acc: 0.6000\n",
      "Epoch 22/100\n",
      "5/5 [==============================] - 0s 400us/step - loss: 1.2014 - acc: 0.6000\n",
      "Epoch 23/100\n",
      "5/5 [==============================] - 0s 601us/step - loss: 1.1826 - acc: 0.6000\n",
      "Epoch 24/100\n",
      "5/5 [==============================] - 0s 600us/step - loss: 1.1644 - acc: 0.6000\n",
      "Epoch 25/100\n",
      "5/5 [==============================] - 0s 400us/step - loss: 1.1470 - acc: 0.6000\n",
      "Epoch 26/100\n",
      "5/5 [==============================] - 0s 600us/step - loss: 1.1302 - acc: 0.6000\n",
      "Epoch 27/100\n",
      "5/5 [==============================] - 0s 600us/step - loss: 1.1140 - acc: 0.6000\n",
      "Epoch 28/100\n",
      "5/5 [==============================] - 0s 799us/step - loss: 1.0983 - acc: 0.6000\n",
      "Epoch 29/100\n",
      "5/5 [==============================] - 0s 1ms/step - loss: 1.0832 - acc: 0.8000\n",
      "Epoch 30/100\n",
      "5/5 [==============================] - 0s 600us/step - loss: 1.0687 - acc: 0.8000\n",
      "Epoch 31/100\n",
      "5/5 [==============================] - 0s 600us/step - loss: 1.0545 - acc: 0.8000\n",
      "Epoch 32/100\n",
      "5/5 [==============================] - 0s 400us/step - loss: 1.0408 - acc: 0.8000\n",
      "Epoch 33/100\n",
      "5/5 [==============================] - 0s 401us/step - loss: 1.0276 - acc: 1.0000\n",
      "Epoch 34/100\n",
      "5/5 [==============================] - 0s 600us/step - loss: 1.0147 - acc: 1.0000\n",
      "Epoch 35/100\n",
      "5/5 [==============================] - 0s 600us/step - loss: 1.0022 - acc: 1.0000\n",
      "Epoch 36/100\n",
      "5/5 [==============================] - 0s 401us/step - loss: 0.9901 - acc: 1.0000\n",
      "Epoch 37/100\n",
      "5/5 [==============================] - 0s 600us/step - loss: 0.9783 - acc: 1.0000\n",
      "Epoch 38/100\n",
      "5/5 [==============================] - 0s 400us/step - loss: 0.9668 - acc: 1.0000\n",
      "Epoch 39/100\n",
      "5/5 [==============================] - 0s 401us/step - loss: 0.9557 - acc: 1.0000\n",
      "Epoch 40/100\n",
      "5/5 [==============================] - 0s 600us/step - loss: 0.9448 - acc: 1.0000\n",
      "Epoch 41/100\n",
      "5/5 [==============================] - 0s 600us/step - loss: 0.9342 - acc: 1.0000\n",
      "Epoch 42/100\n",
      "5/5 [==============================] - 0s 600us/step - loss: 0.9239 - acc: 1.0000\n",
      "Epoch 43/100\n",
      "5/5 [==============================] - 0s 601us/step - loss: 0.9138 - acc: 1.0000\n",
      "Epoch 44/100\n",
      "5/5 [==============================] - 0s 600us/step - loss: 0.9040 - acc: 1.0000\n",
      "Epoch 45/100\n",
      "5/5 [==============================] - 0s 601us/step - loss: 0.8944 - acc: 1.0000\n",
      "Epoch 46/100\n",
      "5/5 [==============================] - 0s 400us/step - loss: 0.8851 - acc: 1.0000\n",
      "Epoch 47/100\n",
      "5/5 [==============================] - 0s 400us/step - loss: 0.8759 - acc: 1.0000\n",
      "Epoch 48/100\n",
      "5/5 [==============================] - 0s 600us/step - loss: 0.8670 - acc: 1.0000\n",
      "Epoch 49/100\n",
      "5/5 [==============================] - 0s 601us/step - loss: 0.8582 - acc: 1.0000\n",
      "Epoch 50/100\n",
      "5/5 [==============================] - 0s 401us/step - loss: 0.8497 - acc: 1.0000\n",
      "Epoch 51/100\n",
      "5/5 [==============================] - 0s 601us/step - loss: 0.8414 - acc: 1.0000\n",
      "Epoch 52/100\n",
      "5/5 [==============================] - 0s 600us/step - loss: 0.8332 - acc: 1.0000\n",
      "Epoch 53/100\n",
      "5/5 [==============================] - 0s 400us/step - loss: 0.8252 - acc: 1.0000\n",
      "Epoch 54/100\n",
      "5/5 [==============================] - 0s 400us/step - loss: 0.8174 - acc: 1.0000\n",
      "Epoch 55/100\n",
      "5/5 [==============================] - 0s 601us/step - loss: 0.8098 - acc: 1.0000\n",
      "Epoch 56/100\n",
      "5/5 [==============================] - 0s 400us/step - loss: 0.8023 - acc: 1.0000\n",
      "Epoch 57/100\n",
      "5/5 [==============================] - 0s 600us/step - loss: 0.7949 - acc: 1.0000\n",
      "Epoch 58/100\n",
      "5/5 [==============================] - 0s 2ms/step - loss: 0.7878 - acc: 1.0000\n",
      "Epoch 59/100\n",
      "5/5 [==============================] - 0s 401us/step - loss: 0.7807 - acc: 1.0000\n",
      "Epoch 60/100\n",
      "5/5 [==============================] - 0s 401us/step - loss: 0.7738 - acc: 1.0000\n",
      "Epoch 61/100\n",
      "5/5 [==============================] - 0s 400us/step - loss: 0.7671 - acc: 1.0000\n",
      "Epoch 62/100\n",
      "5/5 [==============================] - 0s 600us/step - loss: 0.7604 - acc: 1.0000\n",
      "Epoch 63/100\n",
      "5/5 [==============================] - 0s 400us/step - loss: 0.7540 - acc: 1.0000\n",
      "Epoch 64/100\n",
      "5/5 [==============================] - 0s 400us/step - loss: 0.7476 - acc: 1.0000\n",
      "Epoch 65/100\n",
      "5/5 [==============================] - 0s 400us/step - loss: 0.7413 - acc: 1.0000\n",
      "Epoch 66/100\n",
      "5/5 [==============================] - 0s 600us/step - loss: 0.7352 - acc: 1.0000\n",
      "Epoch 67/100\n",
      "5/5 [==============================] - 0s 601us/step - loss: 0.7292 - acc: 1.0000\n",
      "Epoch 68/100\n",
      "5/5 [==============================] - 0s 400us/step - loss: 0.7233 - acc: 1.0000\n",
      "Epoch 69/100\n",
      "5/5 [==============================] - 0s 600us/step - loss: 0.7176 - acc: 1.0000\n",
      "Epoch 70/100\n",
      "5/5 [==============================] - 0s 600us/step - loss: 0.7119 - acc: 1.0000\n",
      "Epoch 71/100\n",
      "5/5 [==============================] - 0s 601us/step - loss: 0.7063 - acc: 1.0000\n",
      "Epoch 72/100\n",
      "5/5 [==============================] - 0s 400us/step - loss: 0.7009 - acc: 1.0000\n",
      "Epoch 73/100\n",
      "5/5 [==============================] - 0s 601us/step - loss: 0.6955 - acc: 1.0000\n",
      "Epoch 74/100\n",
      "5/5 [==============================] - 0s 400us/step - loss: 0.6902 - acc: 1.0000\n",
      "Epoch 75/100\n",
      "5/5 [==============================] - 0s 400us/step - loss: 0.6851 - acc: 1.0000\n",
      "Epoch 76/100\n",
      "5/5 [==============================] - 0s 600us/step - loss: 0.6800 - acc: 1.0000\n",
      "Epoch 77/100\n",
      "5/5 [==============================] - 0s 400us/step - loss: 0.6750 - acc: 1.0000\n",
      "Epoch 78/100\n",
      "5/5 [==============================] - 0s 600us/step - loss: 0.6701 - acc: 1.0000\n",
      "Epoch 79/100\n",
      "5/5 [==============================] - 0s 800us/step - loss: 0.6653 - acc: 1.0000\n",
      "Epoch 80/100\n",
      "5/5 [==============================] - 0s 601us/step - loss: 0.6605 - acc: 1.0000\n",
      "Epoch 81/100\n",
      "5/5 [==============================] - 0s 601us/step - loss: 0.6559 - acc: 1.0000\n",
      "Epoch 82/100\n",
      "5/5 [==============================] - 0s 600us/step - loss: 0.6513 - acc: 1.0000\n",
      "Epoch 83/100\n",
      "5/5 [==============================] - 0s 400us/step - loss: 0.6468 - acc: 1.0000\n",
      "Epoch 84/100\n",
      "5/5 [==============================] - 0s 400us/step - loss: 0.6424 - acc: 1.0000\n",
      "Epoch 85/100\n",
      "5/5 [==============================] - 0s 400us/step - loss: 0.6381 - acc: 1.0000\n",
      "Epoch 86/100\n",
      "5/5 [==============================] - 0s 400us/step - loss: 0.6338 - acc: 1.0000\n",
      "Epoch 87/100\n",
      "5/5 [==============================] - 0s 400us/step - loss: 0.6296 - acc: 1.0000\n"
     ]
    },
    {
     "name": "stdout",
     "output_type": "stream",
     "text": [
      "Epoch 88/100\n",
      "5/5 [==============================] - 0s 600us/step - loss: 0.6255 - acc: 1.0000\n",
      "Epoch 89/100\n",
      "5/5 [==============================] - 0s 400us/step - loss: 0.6214 - acc: 1.0000\n",
      "Epoch 90/100\n",
      "5/5 [==============================] - 0s 400us/step - loss: 0.6174 - acc: 1.0000\n",
      "Epoch 91/100\n",
      "5/5 [==============================] - 0s 801us/step - loss: 0.6135 - acc: 1.0000\n",
      "Epoch 92/100\n",
      "5/5 [==============================] - 0s 400us/step - loss: 0.6096 - acc: 1.0000\n",
      "Epoch 93/100\n",
      "5/5 [==============================] - 0s 600us/step - loss: 0.6058 - acc: 1.0000\n",
      "Epoch 94/100\n",
      "5/5 [==============================] - 0s 600us/step - loss: 0.6021 - acc: 1.0000\n",
      "Epoch 95/100\n",
      "5/5 [==============================] - 0s 400us/step - loss: 0.5984 - acc: 1.0000\n",
      "Epoch 96/100\n",
      "5/5 [==============================] - 0s 601us/step - loss: 0.5948 - acc: 1.0000\n",
      "Epoch 97/100\n",
      "5/5 [==============================] - 0s 801us/step - loss: 0.5912 - acc: 1.0000\n",
      "Epoch 98/100\n",
      "5/5 [==============================] - 0s 600us/step - loss: 0.5877 - acc: 1.0000\n",
      "Epoch 99/100\n",
      "5/5 [==============================] - 0s 801us/step - loss: 0.5842 - acc: 1.0000\n",
      "Epoch 100/100\n",
      "5/5 [==============================] - 0s 600us/step - loss: 0.5808 - acc: 1.0000\n"
     ]
    },
    {
     "data": {
      "text/plain": [
       "<keras.callbacks.History at 0xcb801fada0>"
      ]
     },
     "execution_count": 87,
     "metadata": {},
     "output_type": "execute_result"
    }
   ],
   "source": [
    "model.fit(x_data, y_train, epochs=100)"
   ]
  },
  {
   "cell_type": "code",
   "execution_count": 96,
   "metadata": {},
   "outputs": [],
   "source": [
    "pre = model.predict(x_data)"
   ]
  },
  {
   "cell_type": "code",
   "execution_count": 107,
   "metadata": {},
   "outputs": [
    {
     "name": "stdout",
     "output_type": "stream",
     "text": [
      "['I', 'am', 'a']===>2 boy\n",
      "['am', 'a', 'boy']===>6 she\n",
      "['a', 'boy', 'She']===>5 is\n",
      "['boy', 'She', 'is']===>0 a\n",
      "['She', 'is', 'a']===>3 girl\n"
     ]
    }
   ],
   "source": [
    "for i in range(5):\n",
    "    print(tokenized_words[i: i+3], end='===>')\n",
    "    print(pre[i].argmax(), end=' ')\n",
    "    print(vect.get_feature_names()[pre[i].argmax()])"
   ]
  }
 ],
 "metadata": {
  "kernelspec": {
   "display_name": "Python 3",
   "language": "python",
   "name": "python3"
  },
  "language_info": {
   "codemirror_mode": {
    "name": "ipython",
    "version": 3
   },
   "file_extension": ".py",
   "mimetype": "text/x-python",
   "name": "python",
   "nbconvert_exporter": "python",
   "pygments_lexer": "ipython3",
   "version": "3.6.3"
  }
 },
 "nbformat": 4,
 "nbformat_minor": 2
}
