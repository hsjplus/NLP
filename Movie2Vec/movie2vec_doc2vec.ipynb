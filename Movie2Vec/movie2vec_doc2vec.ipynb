{
  "nbformat": 4,
  "nbformat_minor": 0,
  "metadata": {
    "colab": {
      "name": "movie2vec_doc2vec.ipynb",
      "version": "0.3.2",
      "provenance": [],
      "collapsed_sections": []
    },
    "kernelspec": {
      "name": "python3",
      "display_name": "Python 3"
    },
    "accelerator": "GPU"
  },
  "cells": [
    {
      "metadata": {
        "id": "kmi44bS8lQFF",
        "colab_type": "code",
        "colab": {}
      },
      "cell_type": "code",
      "source": [
        "# Part of 인공지능연구소 3기 C'est La Vie Team's Project\n",
        "# source code written by Suk Joon Hong"
      ],
      "execution_count": 0,
      "outputs": []
    },
    {
      "metadata": {
        "id": "g3LypJCbqURX",
        "colab_type": "code",
        "colab": {}
      },
      "cell_type": "code",
      "source": [
        "!pip install konlpy"
      ],
      "execution_count": 0,
      "outputs": []
    },
    {
      "metadata": {
        "id": "Ozbt54l_8ynJ",
        "colab_type": "code",
        "colab": {}
      },
      "cell_type": "code",
      "source": [
        "import pandas as pd\n",
        "from gensim.models.doc2vec import Doc2Vec, TaggedDocument  \n",
        "from glob import glob\n",
        "from google.colab import drive\n",
        "from sklearn.decomposition import PCA\n",
        "import matplotlib.pyplot as plt\n",
        "import os\n",
        "from konlpy.tag import Okt\n",
        "drive.mount('/gdrive')"
      ],
      "execution_count": 0,
      "outputs": []
    },
    {
      "metadata": {
        "id": "RkF-WPZ7qqYF",
        "colab_type": "code",
        "outputId": "fd321e1d-01e9-49c9-8a85-d7a685d83caa",
        "colab": {
          "base_uri": "https://localhost:8080/",
          "height": 99
        }
      },
      "cell_type": "code",
      "source": [
        "def install_java():\n",
        "  !apt-get install -y openjdk-8-jdk-headless -qq > /dev/null \n",
        "  os.environ['JAVA_HOME'] = '/usr/lib/jvm/java-8-openjdk-amd64'     \n",
        "  !java -version       \n",
        "install_java()"
      ],
      "execution_count": 5,
      "outputs": [
        {
          "output_type": "stream",
          "text": [
            "openjdk version \"10.0.2\" 2018-07-17\n",
            "OpenJDK Runtime Environment (build 10.0.2+13-Ubuntu-1ubuntu0.18.04.4)\n",
            "OpenJDK 64-Bit Server VM (build 10.0.2+13-Ubuntu-1ubuntu0.18.04.4, mixed mode)\n"
          ],
          "name": "stdout"
        }
      ]
    },
    {
      "metadata": {
        "id": "mRVshAaO9JBV",
        "colab_type": "code",
        "outputId": "2997cd26-266a-4abd-ec85-b77fbe6659e8",
        "colab": {
          "base_uri": "https://localhost:8080/",
          "height": 255
        }
      },
      "cell_type": "code",
      "source": [
        "# load movie names  \n",
        "\n",
        "movie_names = []\n",
        "\n",
        "movie_paths = glob('/gdrive/My Drive/Colab Notebooks/Movie2Vec/Script/*')\n",
        "for movie_path in movie_paths:\n",
        "  movie_names.append(movie_path.replace('/gdrive/My Drive/Colab Notebooks/Movie2Vec/Script/','').replace('.txt','').replace('_untag_script',''))\n",
        "\n",
        "movie_names"
      ],
      "execution_count": 6,
      "outputs": [
        {
          "output_type": "execute_result",
          "data": {
            "text/plain": [
              "['Avengers1',\n",
              " 'Avengers3',\n",
              " 'Avengers2',\n",
              " 'Harry Potter2',\n",
              " 'Harry Potter3',\n",
              " 'Fantastic.Beasts.and.Where.to.Find.Them',\n",
              " 'Harry Potter1',\n",
              " 'The.Hobbit3',\n",
              " 'The.Hobbit1',\n",
              " 'Lord.of.the.Ring1',\n",
              " 'Lord.of.the.Ring2',\n",
              " 'Lord.of.the.Ring3',\n",
              " 'Iron.Man1',\n",
              " 'Iron.Man2']"
            ]
          },
          "metadata": {
            "tags": []
          },
          "execution_count": 6
        }
      ]
    },
    {
      "metadata": {
        "id": "8SVgS-0ghh11",
        "colab_type": "code",
        "colab": {}
      },
      "cell_type": "code",
      "source": [
        "# load movie script data \n",
        "movie_scripts = []\n",
        "\n",
        "for movie_path in movie_paths:\n",
        "  with open(movie_path, mode='r') as f: \n",
        "    movie_script_tmp = f.read()\n",
        "  movie_scripts.append(movie_script_tmp)"
      ],
      "execution_count": 0,
      "outputs": []
    },
    {
      "metadata": {
        "id": "Q21NtJx3s3U2",
        "colab_type": "code",
        "colab": {}
      },
      "cell_type": "code",
      "source": [
        "# make a list of TaggedDocuments(words=['noun1','noun2',...], tags=['movie_name']) \n",
        "okt = Okt()\n",
        "tagged_data = [TaggedDocument(words=okt.nouns(movie_scripts[i]), tags=[movie_names[i]]) for i in range(len(movie_scripts))]\n",
        "\n",
        "# train with Doc2Vec algorithm\n",
        "model = Doc2Vec(epochs=40)\n",
        "model.build_vocab(tagged_data)\n",
        "model.train(documents=tagged_data, total_examples=model.corpus_count, epochs=model.epochs)"
      ],
      "execution_count": 0,
      "outputs": []
    },
    {
      "metadata": {
        "id": "Av66fTga9sfI",
        "colab_type": "code",
        "outputId": "061edd9c-1452-4da2-f47e-3a470d1e3248",
        "colab": {
          "base_uri": "https://localhost:8080/",
          "height": 261
        }
      },
      "cell_type": "code",
      "source": [
        "# check similar movies with Avengers1 \n",
        "model.docvecs.most_similar(positive='Avengers1')"
      ],
      "execution_count": 9,
      "outputs": [
        {
          "output_type": "stream",
          "text": [
            "/usr/local/lib/python3.6/dist-packages/gensim/matutils.py:737: FutureWarning: Conversion of the second argument of issubdtype from `int` to `np.signedinteger` is deprecated. In future, it will be treated as `np.int64 == np.dtype(int).type`.\n",
            "  if np.issubdtype(vec.dtype, np.int):\n"
          ],
          "name": "stderr"
        },
        {
          "output_type": "execute_result",
          "data": {
            "text/plain": [
              "[('Avengers2', 0.32428422570228577),\n",
              " ('Iron.Man2', 0.27756375074386597),\n",
              " ('Avengers3', 0.254175066947937),\n",
              " ('Iron.Man1', 0.23562170565128326),\n",
              " ('Lord.of.the.Ring3', 0.1980500966310501),\n",
              " ('Fantastic.Beasts.and.Where.to.Find.Them', 0.15383929014205933),\n",
              " ('Harry Potter3', 0.04255696013569832),\n",
              " ('The.Hobbit1', -0.014271986670792103),\n",
              " ('The.Hobbit3', -0.05291756987571716),\n",
              " ('Lord.of.the.Ring1', -0.06932613253593445)]"
            ]
          },
          "metadata": {
            "tags": []
          },
          "execution_count": 9
        }
      ]
    },
    {
      "metadata": {
        "id": "jSMEMMunBScC",
        "colab_type": "code",
        "outputId": "f7b16caa-75d0-4628-b94d-8420fb0ad978",
        "colab": {
          "base_uri": "https://localhost:8080/",
          "height": 34
        }
      },
      "cell_type": "code",
      "source": [
        "# reduce dimension using PCA algorithm : 100 -> 2\n",
        "doc2vec_matrix = model.docvecs.vectors_docs # (14, 100)\n",
        "pca_model = PCA(n_components=2)\n",
        "movie_vectors_2d = pca_model.fit_transform(doc2vec_matrix)\n",
        "\n",
        "print(movie_vectors_2d.shape)"
      ],
      "execution_count": 10,
      "outputs": [
        {
          "output_type": "stream",
          "text": [
            "(14, 2)\n"
          ],
          "name": "stdout"
        }
      ]
    },
    {
      "metadata": {
        "id": "BSgtKTEwe6aq",
        "colab_type": "code",
        "outputId": "3e71bb5c-c54e-46d8-9256-9282a1e2c3ea",
        "colab": {
          "base_uri": "https://localhost:8080/",
          "height": 347
        }
      },
      "cell_type": "code",
      "source": [
        "# visualize\n",
        "plt.figure()\n",
        "for i, movie_name in enumerate(model.docvecs.index2entity):\n",
        "  x = movie_vectors_2d[i].transpose()[0]\n",
        "  y = movie_vectors_2d[i].transpose()[1]\n",
        "  plt.scatter(x, y)\n",
        "  plt.text(x + 0.01,y + 0.01, movie_name, fontsize=11)\n",
        "plt.show()"
      ],
      "execution_count": 13,
      "outputs": [
        {
          "output_type": "display_data",
          "data": {
            "image/png": "[encoded data removed]",
            "text/plain": [
              "<Figure size 576x396 with 1 Axes>"
            ]
          },
          "metadata": {
            "tags": []
          }
        }
      ]
    }
  ]
}