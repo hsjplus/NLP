{
 "cells": [
  {
   "cell_type": "code",
   "execution_count": 1,
   "metadata": {
    "collapsed": true
   },
   "outputs": [],
   "source": [
    "from nltk.tokenize import word_tokenize\n",
    "from sklearn.feature_extraction.text import CountVectorizer"
   ]
  },
  {
   "cell_type": "code",
   "execution_count": 2,
   "metadata": {
    "collapsed": true
   },
   "outputs": [],
   "source": [
    "text = [\"I am a boy\", \"She is a girl\"]\n",
    "vect = CountVectorizer(tokenizer=word_tokenize).fit(text)"
   ]
  },
  {
   "cell_type": "code",
   "execution_count": 3,
   "metadata": {
    "collapsed": true
   },
   "outputs": [],
   "source": [
    "x_train = []\n",
    "y_train = []"
   ]
  },
  {
   "cell_type": "code",
   "execution_count": 4,
   "metadata": {
    "collapsed": true
   },
   "outputs": [],
   "source": [
    "tokenized_words = word_tokenize(\"I am a boy She is a girl\")"
   ]
  },
  {
   "cell_type": "code",
   "execution_count": 5,
   "metadata": {
    "collapsed": true
   },
   "outputs": [],
   "source": [
    "for i in range(len(tokenized_words)-3):\n",
    "    x_train.append(vect.transform([tokenized_words[i],tokenized_words[i+1],tokenized_words[i+2]]).toarray())\n",
    "    y_train.append(vect.transform([tokenized_words[i+3]]).toarray())"
   ]
  },
  {
   "cell_type": "code",
   "execution_count": 6,
   "metadata": {},
   "outputs": [
    {
     "data": {
      "text/plain": [
       "array([[[0, 0, 0, 0, 1, 0, 0],\n",
       "        [0, 1, 0, 0, 0, 0, 0],\n",
       "        [1, 0, 0, 0, 0, 0, 0]],\n",
       "\n",
       "       [[0, 1, 0, 0, 0, 0, 0],\n",
       "        [1, 0, 0, 0, 0, 0, 0],\n",
       "        [0, 0, 1, 0, 0, 0, 0]],\n",
       "\n",
       "       [[1, 0, 0, 0, 0, 0, 0],\n",
       "        [0, 0, 1, 0, 0, 0, 0],\n",
       "        [0, 0, 0, 0, 0, 0, 1]],\n",
       "\n",
       "       [[0, 0, 1, 0, 0, 0, 0],\n",
       "        [0, 0, 0, 0, 0, 0, 1],\n",
       "        [0, 0, 0, 0, 0, 1, 0]],\n",
       "\n",
       "       [[0, 0, 0, 0, 0, 0, 1],\n",
       "        [0, 0, 0, 0, 0, 1, 0],\n",
       "        [1, 0, 0, 0, 0, 0, 0]]], dtype=int64)"
      ]
     },
     "execution_count": 6,
     "metadata": {},
     "output_type": "execute_result"
    }
   ],
   "source": [
    "import numpy as np\n",
    "x_train = np.array(x_train)\n",
    "x_train"
   ]
  },
  {
   "cell_type": "code",
   "execution_count": 7,
   "metadata": {},
   "outputs": [
    {
     "data": {
      "text/plain": [
       "array([[0, 0, 1, 0, 0, 0, 0],\n",
       "       [0, 0, 0, 0, 0, 0, 1],\n",
       "       [0, 0, 0, 0, 0, 1, 0],\n",
       "       [1, 0, 0, 0, 0, 0, 0],\n",
       "       [0, 0, 0, 1, 0, 0, 0]], dtype=int64)"
      ]
     },
     "execution_count": 7,
     "metadata": {},
     "output_type": "execute_result"
    }
   ],
   "source": [
    "y_train = np.array(y_train).reshape(5,7)\n",
    "y_train"
   ]
  },
  {
   "cell_type": "code",
   "execution_count": 8,
   "metadata": {},
   "outputs": [
    {
     "name": "stderr",
     "output_type": "stream",
     "text": [
      "Using TensorFlow backend.\n"
     ]
    }
   ],
   "source": [
    "from keras.models import Model\n",
    "from keras.layers import Dense, Input, Flatten"
   ]
  },
  {
   "cell_type": "code",
   "execution_count": 9,
   "metadata": {
    "collapsed": true
   },
   "outputs": [],
   "source": [
    "x = Input([3,7])\n",
    "x2 = Dense(2)(x)\n",
    "x3 = Flatten()(x2)\n",
    "h = Dense(64, activation='tanh')(x3)\n",
    "y = Dense(7, activation='softmax')(h)"
   ]
  },
  {
   "cell_type": "code",
   "execution_count": 10,
   "metadata": {},
   "outputs": [
    {
     "name": "stdout",
     "output_type": "stream",
     "text": [
      "_________________________________________________________________\n",
      "Layer (type)                 Output Shape              Param #   \n",
      "=================================================================\n",
      "input_1 (InputLayer)         (None, 3, 7)              0         \n",
      "_________________________________________________________________\n",
      "dense_1 (Dense)              (None, 3, 2)              16        \n",
      "_________________________________________________________________\n",
      "flatten_1 (Flatten)          (None, 6)                 0         \n",
      "_________________________________________________________________\n",
      "dense_2 (Dense)              (None, 64)                448       \n",
      "_________________________________________________________________\n",
      "dense_3 (Dense)              (None, 7)                 455       \n",
      "=================================================================\n",
      "Total params: 919\n",
      "Trainable params: 919\n",
      "Non-trainable params: 0\n",
      "_________________________________________________________________\n"
     ]
    }
   ],
   "source": [
    "model = Model(x,y)\n",
    "model.summary()"
   ]
  },
  {
   "cell_type": "code",
   "execution_count": 11,
   "metadata": {
    "collapsed": true
   },
   "outputs": [],
   "source": [
    "model.compile(loss=\"categorical_crossentropy\", optimizer='sgd', metrics=['accuracy'])"
   ]
  },
  {
   "cell_type": "code",
   "execution_count": 12,
   "metadata": {},
   "outputs": [
    {
     "name": "stdout",
     "output_type": "stream",
     "text": [
      "Epoch 1/100\n",
      "5/5 [==============================] - 0s 42ms/step - loss: 1.8108 - acc: 0.6000\n",
      "Epoch 2/100\n",
      "5/5 [==============================] - 0s 400us/step - loss: 1.8031 - acc: 0.6000\n",
      "Epoch 3/100\n",
      "5/5 [==============================] - 0s 601us/step - loss: 1.7954 - acc: 0.6000\n",
      "Epoch 4/100\n",
      "5/5 [==============================] - 0s 401us/step - loss: 1.7878 - acc: 0.6000\n",
      "Epoch 5/100\n",
      "5/5 [==============================] - 0s 600us/step - loss: 1.7801 - acc: 0.6000\n",
      "Epoch 6/100\n",
      "5/5 [==============================] - 0s 801us/step - loss: 1.7725 - acc: 0.6000\n",
      "Epoch 7/100\n",
      "5/5 [==============================] - 0s 400us/step - loss: 1.7649 - acc: 0.6000\n",
      "Epoch 8/100\n",
      "5/5 [==============================] - 0s 601us/step - loss: 1.7573 - acc: 0.6000\n",
      "Epoch 9/100\n",
      "5/5 [==============================] - 0s 600us/step - loss: 1.7498 - acc: 0.6000\n",
      "Epoch 10/100\n",
      "5/5 [==============================] - 0s 400us/step - loss: 1.7423 - acc: 0.6000\n",
      "Epoch 11/100\n",
      "5/5 [==============================] - 0s 400us/step - loss: 1.7347 - acc: 0.6000\n",
      "Epoch 12/100\n",
      "5/5 [==============================] - 0s 401us/step - loss: 1.7272 - acc: 0.6000\n",
      "Epoch 13/100\n",
      "5/5 [==============================] - 0s 600us/step - loss: 1.7198 - acc: 0.6000\n",
      "Epoch 14/100\n",
      "5/5 [==============================] - 0s 601us/step - loss: 1.7123 - acc: 0.6000\n",
      "Epoch 15/100\n",
      "5/5 [==============================] - 0s 600us/step - loss: 1.7048 - acc: 0.6000\n",
      "Epoch 16/100\n",
      "5/5 [==============================] - 0s 401us/step - loss: 1.6974 - acc: 0.6000\n",
      "Epoch 17/100\n",
      "5/5 [==============================] - 0s 400us/step - loss: 1.6900 - acc: 0.6000\n",
      "Epoch 18/100\n",
      "5/5 [==============================] - 0s 400us/step - loss: 1.6826 - acc: 0.8000\n",
      "Epoch 19/100\n",
      "5/5 [==============================] - 0s 600us/step - loss: 1.6752 - acc: 0.8000\n",
      "Epoch 20/100\n",
      "5/5 [==============================] - 0s 600us/step - loss: 1.6678 - acc: 0.8000\n",
      "Epoch 21/100\n",
      "5/5 [==============================] - 0s 400us/step - loss: 1.6604 - acc: 0.8000\n",
      "Epoch 22/100\n",
      "5/5 [==============================] - 0s 599us/step - loss: 1.6530 - acc: 0.8000\n",
      "Epoch 23/100\n",
      "5/5 [==============================] - 0s 600us/step - loss: 1.6457 - acc: 0.8000\n",
      "Epoch 24/100\n",
      "5/5 [==============================] - 0s 400us/step - loss: 1.6383 - acc: 0.8000\n",
      "Epoch 25/100\n",
      "5/5 [==============================] - 0s 400us/step - loss: 1.6310 - acc: 0.8000\n",
      "Epoch 26/100\n",
      "5/5 [==============================] - 0s 400us/step - loss: 1.6237 - acc: 0.8000\n",
      "Epoch 27/100\n",
      "5/5 [==============================] - 0s 400us/step - loss: 1.6163 - acc: 0.8000\n",
      "Epoch 28/100\n",
      "5/5 [==============================] - 0s 401us/step - loss: 1.6090 - acc: 0.8000\n",
      "Epoch 29/100\n",
      "5/5 [==============================] - 0s 400us/step - loss: 1.6017 - acc: 1.0000\n",
      "Epoch 30/100\n",
      "5/5 [==============================] - 0s 400us/step - loss: 1.5944 - acc: 1.0000\n",
      "Epoch 31/100\n",
      "5/5 [==============================] - 0s 400us/step - loss: 1.5871 - acc: 1.0000\n",
      "Epoch 32/100\n",
      "5/5 [==============================] - 0s 400us/step - loss: 1.5798 - acc: 1.0000\n",
      "Epoch 33/100\n",
      "5/5 [==============================] - 0s 600us/step - loss: 1.5725 - acc: 1.0000\n",
      "Epoch 34/100\n",
      "5/5 [==============================] - 0s 600us/step - loss: 1.5653 - acc: 1.0000\n",
      "Epoch 35/100\n",
      "5/5 [==============================] - 0s 601us/step - loss: 1.5580 - acc: 1.0000\n",
      "Epoch 36/100\n",
      "5/5 [==============================] - 0s 400us/step - loss: 1.5507 - acc: 1.0000\n",
      "Epoch 37/100\n",
      "5/5 [==============================] - 0s 601us/step - loss: 1.5434 - acc: 1.0000\n",
      "Epoch 38/100\n",
      "5/5 [==============================] - 0s 601us/step - loss: 1.5362 - acc: 1.0000\n",
      "Epoch 39/100\n",
      "5/5 [==============================] - 0s 600us/step - loss: 1.5289 - acc: 1.0000\n",
      "Epoch 40/100\n",
      "5/5 [==============================] - 0s 600us/step - loss: 1.5216 - acc: 1.0000\n",
      "Epoch 41/100\n",
      "5/5 [==============================] - 0s 601us/step - loss: 1.5144 - acc: 1.0000\n",
      "Epoch 42/100\n",
      "5/5 [==============================] - 0s 601us/step - loss: 1.5071 - acc: 1.0000\n",
      "Epoch 43/100\n",
      "5/5 [==============================] - 0s 600us/step - loss: 1.4999 - acc: 1.0000\n",
      "Epoch 44/100\n",
      "5/5 [==============================] - 0s 601us/step - loss: 1.4926 - acc: 1.0000\n",
      "Epoch 45/100\n",
      "5/5 [==============================] - 0s 801us/step - loss: 1.4854 - acc: 1.0000\n",
      "Epoch 46/100\n",
      "5/5 [==============================] - 0s 601us/step - loss: 1.4781 - acc: 1.0000\n",
      "Epoch 47/100\n",
      "5/5 [==============================] - 0s 600us/step - loss: 1.4709 - acc: 1.0000\n",
      "Epoch 48/100\n",
      "5/5 [==============================] - 0s 400us/step - loss: 1.4636 - acc: 1.0000\n",
      "Epoch 49/100\n",
      "5/5 [==============================] - 0s 401us/step - loss: 1.4563 - acc: 1.0000\n",
      "Epoch 50/100\n",
      "5/5 [==============================] - 0s 400us/step - loss: 1.4491 - acc: 1.0000\n",
      "Epoch 51/100\n",
      "5/5 [==============================] - 0s 601us/step - loss: 1.4418 - acc: 1.0000\n",
      "Epoch 52/100\n",
      "5/5 [==============================] - 0s 401us/step - loss: 1.4346 - acc: 1.0000\n",
      "Epoch 53/100\n",
      "5/5 [==============================] - 0s 600us/step - loss: 1.4273 - acc: 1.0000\n",
      "Epoch 54/100\n",
      "5/5 [==============================] - 0s 601us/step - loss: 1.4201 - acc: 1.0000\n",
      "Epoch 55/100\n",
      "5/5 [==============================] - 0s 601us/step - loss: 1.4128 - acc: 1.0000\n",
      "Epoch 56/100\n",
      "5/5 [==============================] - 0s 400us/step - loss: 1.4056 - acc: 1.0000\n",
      "Epoch 57/100\n",
      "5/5 [==============================] - 0s 400us/step - loss: 1.3983 - acc: 1.0000\n",
      "Epoch 58/100\n",
      "5/5 [==============================] - 0s 400us/step - loss: 1.3910 - acc: 1.0000\n",
      "Epoch 59/100\n",
      "5/5 [==============================] - 0s 400us/step - loss: 1.3838 - acc: 1.0000\n",
      "Epoch 60/100\n",
      "5/5 [==============================] - 0s 601us/step - loss: 1.3765 - acc: 1.0000\n",
      "Epoch 61/100\n",
      "5/5 [==============================] - 0s 400us/step - loss: 1.3693 - acc: 1.0000\n",
      "Epoch 62/100\n",
      "5/5 [==============================] - 0s 601us/step - loss: 1.3620 - acc: 1.0000\n",
      "Epoch 63/100\n",
      "5/5 [==============================] - 0s 400us/step - loss: 1.3547 - acc: 1.0000\n",
      "Epoch 64/100\n",
      "5/5 [==============================] - 0s 400us/step - loss: 1.3475 - acc: 1.0000\n",
      "Epoch 65/100\n",
      "5/5 [==============================] - 0s 600us/step - loss: 1.3402 - acc: 1.0000\n",
      "Epoch 66/100\n",
      "5/5 [==============================] - 0s 401us/step - loss: 1.3330 - acc: 1.0000\n",
      "Epoch 67/100\n",
      "5/5 [==============================] - 0s 600us/step - loss: 1.3257 - acc: 1.0000\n",
      "Epoch 68/100\n",
      "5/5 [==============================] - 0s 600us/step - loss: 1.3184 - acc: 1.0000\n",
      "Epoch 69/100\n",
      "5/5 [==============================] - 0s 601us/step - loss: 1.3112 - acc: 1.0000\n",
      "Epoch 70/100\n",
      "5/5 [==============================] - 0s 400us/step - loss: 1.3039 - acc: 1.0000\n",
      "Epoch 71/100\n",
      "5/5 [==============================] - 0s 400us/step - loss: 1.2966 - acc: 1.0000\n",
      "Epoch 72/100\n",
      "5/5 [==============================] - 0s 600us/step - loss: 1.2894 - acc: 1.0000\n",
      "Epoch 73/100\n",
      "5/5 [==============================] - 0s 600us/step - loss: 1.2821 - acc: 1.0000\n",
      "Epoch 74/100\n",
      "5/5 [==============================] - 0s 801us/step - loss: 1.2748 - acc: 1.0000\n",
      "Epoch 75/100\n",
      "5/5 [==============================] - 0s 601us/step - loss: 1.2676 - acc: 1.0000\n",
      "Epoch 76/100\n",
      "5/5 [==============================] - 0s 600us/step - loss: 1.2603 - acc: 1.0000\n",
      "Epoch 77/100\n",
      "5/5 [==============================] - 0s 600us/step - loss: 1.2531 - acc: 1.0000\n",
      "Epoch 78/100\n",
      "5/5 [==============================] - 0s 601us/step - loss: 1.2458 - acc: 1.0000\n",
      "Epoch 79/100\n",
      "5/5 [==============================] - 0s 600us/step - loss: 1.2385 - acc: 1.0000\n",
      "Epoch 80/100\n",
      "5/5 [==============================] - 0s 600us/step - loss: 1.2313 - acc: 1.0000\n",
      "Epoch 81/100\n",
      "5/5 [==============================] - 0s 601us/step - loss: 1.2240 - acc: 1.0000\n",
      "Epoch 82/100\n",
      "5/5 [==============================] - 0s 800us/step - loss: 1.2168 - acc: 1.0000\n",
      "Epoch 83/100\n",
      "5/5 [==============================] - 0s 601us/step - loss: 1.2095 - acc: 1.0000\n",
      "Epoch 84/100\n",
      "5/5 [==============================] - 0s 600us/step - loss: 1.2023 - acc: 1.0000\n",
      "Epoch 85/100\n",
      "5/5 [==============================] - 0s 600us/step - loss: 1.1950 - acc: 1.0000\n",
      "Epoch 86/100\n",
      "5/5 [==============================] - 0s 600us/step - loss: 1.1878 - acc: 1.0000\n",
      "Epoch 87/100\n",
      "5/5 [==============================] - 0s 600us/step - loss: 1.1806 - acc: 1.0000\n"
     ]
    },
    {
     "name": "stdout",
     "output_type": "stream",
     "text": [
      "Epoch 88/100\n",
      "5/5 [==============================] - 0s 601us/step - loss: 1.1733 - acc: 1.0000\n",
      "Epoch 89/100\n",
      "5/5 [==============================] - 0s 801us/step - loss: 1.1661 - acc: 1.0000\n",
      "Epoch 90/100\n",
      "5/5 [==============================] - 0s 1ms/step - loss: 1.1589 - acc: 1.0000\n",
      "Epoch 91/100\n",
      "5/5 [==============================] - 0s 815us/step - loss: 1.1517 - acc: 1.0000\n",
      "Epoch 92/100\n",
      "5/5 [==============================] - 0s 800us/step - loss: 1.1445 - acc: 1.0000\n",
      "Epoch 93/100\n",
      "5/5 [==============================] - 0s 600us/step - loss: 1.1372 - acc: 1.0000\n",
      "Epoch 94/100\n",
      "5/5 [==============================] - 0s 600us/step - loss: 1.1301 - acc: 1.0000\n",
      "Epoch 95/100\n",
      "5/5 [==============================] - 0s 601us/step - loss: 1.1229 - acc: 1.0000\n",
      "Epoch 96/100\n",
      "5/5 [==============================] - 0s 601us/step - loss: 1.1157 - acc: 1.0000\n",
      "Epoch 97/100\n",
      "5/5 [==============================] - 0s 400us/step - loss: 1.1085 - acc: 1.0000\n",
      "Epoch 98/100\n",
      "5/5 [==============================] - 0s 400us/step - loss: 1.1013 - acc: 1.0000\n",
      "Epoch 99/100\n",
      "5/5 [==============================] - 0s 601us/step - loss: 1.0942 - acc: 1.0000\n",
      "Epoch 100/100\n",
      "5/5 [==============================] - 0s 601us/step - loss: 1.0870 - acc: 1.0000\n"
     ]
    },
    {
     "data": {
      "text/plain": [
       "<keras.callbacks.History at 0xb93613ae48>"
      ]
     },
     "execution_count": 12,
     "metadata": {},
     "output_type": "execute_result"
    }
   ],
   "source": [
    "model.fit(x_train, y_train, epochs=100)"
   ]
  },
  {
   "cell_type": "code",
   "execution_count": 13,
   "metadata": {
    "collapsed": true
   },
   "outputs": [],
   "source": [
    "pre = model.predict(x_train)"
   ]
  },
  {
   "cell_type": "code",
   "execution_count": 14,
   "metadata": {},
   "outputs": [
    {
     "name": "stdout",
     "output_type": "stream",
     "text": [
      "['I', 'am', 'a']===>2 boy\n",
      "['am', 'a', 'boy']===>6 she\n",
      "['a', 'boy', 'She']===>5 is\n",
      "['boy', 'She', 'is']===>0 a\n",
      "['She', 'is', 'a']===>3 girl\n"
     ]
    }
   ],
   "source": [
    "for i in range(5):\n",
    "    print(tokenized_words[i: i+3], end='===>')\n",
    "    print(pre[i].argmax(), end=' ')\n",
    "    print(vect.get_feature_names()[pre[i].argmax()])"
   ]
  }
 ],
 "metadata": {
  "kernelspec": {
   "display_name": "Python 3",
   "language": "python",
   "name": "python3"
  },
  "language_info": {
   "codemirror_mode": {
    "name": "ipython",
    "version": 3
   },
   "file_extension": ".py",
   "mimetype": "text/x-python",
   "name": "python",
   "nbconvert_exporter": "python",
   "pygments_lexer": "ipython3",
   "version": "3.6.3"
  }
 },
 "nbformat": 4,
 "nbformat_minor": 2
}
