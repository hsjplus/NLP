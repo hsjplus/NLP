{
 "cells": [
  {
   "cell_type": "markdown",
   "metadata": {},
   "source": [
    "# 형태소분석(Konlpy)"
   ]
  },
  {
   "cell_type": "markdown",
   "metadata": {},
   "source": [
    "- 패키지 설치 관련 참고: http://konlpy.org/en/v0.4.4/install/"
   ]
  },
  {
   "cell_type": "markdown",
   "metadata": {},
   "source": [
    "# I. corpus package"
   ]
  },
  {
   "cell_type": "markdown",
   "metadata": {},
   "source": [
    "- 참고: http://konlpy-ko.readthedocs.io/ko/v0.5.1/api/konlpy.corpus/"
   ]
  },
  {
   "cell_type": "code",
   "execution_count": 1,
   "metadata": {
    "collapsed": true
   },
   "outputs": [],
   "source": [
    "from konlpy.corpus import kolaw"
   ]
  },
  {
   "cell_type": "code",
   "execution_count": 2,
   "metadata": {},
   "outputs": [
    {
     "data": {
      "text/plain": [
       "'C:\\\\ProgramData\\\\Anaconda3\\\\lib\\\\site-packages\\\\konlpy/data/corpus/kolaw/'"
      ]
     },
     "execution_count": 2,
     "metadata": {},
     "output_type": "execute_result"
    }
   ],
   "source": [
    "kolaw.abspath()"
   ]
  },
  {
   "cell_type": "code",
   "execution_count": 3,
   "metadata": {},
   "outputs": [
    {
     "name": "stdout",
     "output_type": "stream",
     "text": [
      "['constitution.txt']\n"
     ]
    }
   ],
   "source": [
    "fid = kolaw.fileids()\n",
    "print(fid)"
   ]
  },
  {
   "cell_type": "code",
   "execution_count": 4,
   "metadata": {},
   "outputs": [
    {
     "name": "stdout",
     "output_type": "stream",
     "text": [
      "<_io.TextIOWrapper name='C:\\\\ProgramData\\\\Anaconda3\\\\lib\\\\site-packages\\\\konlpy/data/corpus/kolaw/constitution.txt' mode='r' encoding='utf-8'>\n"
     ]
    }
   ],
   "source": [
    "fobj = kolaw.open(fid[0])\n",
    "print(fobj) # file object를 return"
   ]
  },
  {
   "cell_type": "code",
   "execution_count": 5,
   "metadata": {},
   "outputs": [
    {
     "data": {
      "text/plain": [
       "'대한민국헌법\\n\\n유구한 역사와 전통에 빛나는 우리 대한국민은 3·1운동으로 건립된 대한민국임시정부의 법통과 불의에 항거한 4·19민주이념을 계승하고, 조국의 민주개혁과 평화적 통일의'"
      ]
     },
     "execution_count": 5,
     "metadata": {},
     "output_type": "execute_result"
    }
   ],
   "source": [
    "fobj.read(100)"
   ]
  },
  {
   "cell_type": "code",
   "execution_count": 6,
   "metadata": {},
   "outputs": [
    {
     "name": "stdout",
     "output_type": "stream",
     "text": [
      "['1809890.txt', '1809891.txt', '1809892.txt', '1809893.txt', '1809894.txt', '1809895.txt', '1809896.txt', '1809897.txt', '1809898.txt', '1809899.txt']\n"
     ]
    }
   ],
   "source": [
    "from konlpy.corpus import kobill\n",
    "fid = kobill.fileids()\n",
    "print(fid)"
   ]
  },
  {
   "cell_type": "code",
   "execution_count": 7,
   "metadata": {},
   "outputs": [
    {
     "data": {
      "text/plain": [
       "'국가공무원법 일부개정법률안\\n\\n(정의화의원 대표발의 )\\n\\n 의 안\\n 번 호\\n\\n9891\\n\\n발의연월일 : 2010.  11.  12.  \\n\\n발  의  자 : 정의화․이명수․김을동 \\n\\n이사철․여상규․안규백\\n\\n황영철․박영아․김정훈\\n\\n김학송 의원(10인)\\n\\n제안이유 및 주요내용\\n\\n  초등학교 저학년의 경우에도 부모의 따뜻한 사랑과 보살핌이 필요\\n\\n한 나이이나, 현재 '"
      ]
     },
     "execution_count": 7,
     "metadata": {},
     "output_type": "execute_result"
    }
   ],
   "source": [
    "fobj = kobill.open(fid[1])\n",
    "fobj.read(200)"
   ]
  },
  {
   "cell_type": "markdown",
   "metadata": {},
   "source": [
    "# II. tag Package"
   ]
  },
  {
   "cell_type": "markdown",
   "metadata": {},
   "source": [
    "- 참고: http://konlpy-ko.readthedocs.io/ko/v0.4.4/api/konlpy.tag/"
   ]
  },
  {
   "cell_type": "code",
   "execution_count": 1,
   "metadata": {},
   "outputs": [
    {
     "name": "stdout",
     "output_type": "stream",
     "text": [
      "0.4.4\n"
     ]
    }
   ],
   "source": [
    "import konlpy\n",
    "print(konlpy.__version__)"
   ]
  },
  {
   "cell_type": "code",
   "execution_count": 2,
   "metadata": {
    "collapsed": true
   },
   "outputs": [],
   "source": [
    "#text 출처: 위키피디아 \"자연어 처리\" \n",
    "text = \"\"\"\n",
    "자연어 처리는 인간의 언어 현상을 컴퓨터와 같은 기계를 이용해서 모사 할수 있도록 연구하고 이를 구현하는 인공지능의 주요 분야 중 하나다\n",
    "\"\"\""
   ]
  },
  {
   "cell_type": "markdown",
   "metadata": {},
   "source": [
    "## Hannanum Class"
   ]
  },
  {
   "cell_type": "code",
   "execution_count": 7,
   "metadata": {
    "collapsed": true
   },
   "outputs": [],
   "source": [
    "from konlpy.tag import Hannanum\n",
    "hannanum = Hannanum()"
   ]
  },
  {
   "cell_type": "code",
   "execution_count": 8,
   "metadata": {},
   "outputs": [
    {
     "name": "stdout",
     "output_type": "stream",
     "text": [
      "[[[('자연어', 'ncn')]], [[('처리', 'ncpa'), ('는', 'jxc')]], [[('인간', 'ncn'), ('의', 'jcm')], [('인간', 'ncn'), ('의', 'ncn')], [('인', 'nbu'), ('간', 'xsnu'), ('의', 'jcm')], [('인', 'ncn'), ('간', 'xsncc'), ('의', 'jcm')], [('일', 'pvg'), ('ㄴ', 'etm'), ('간', 'nbn'), ('의', 'jcm')], [('이', 'pvg'), ('ㄴ', 'etm'), ('간', 'nbn'), ('의', 'jcm')]], [[('언어', 'ncn')]], [[('현상', 'ncn'), ('을', 'jco')], [('현상', 'ncpa'), ('을', 'jco')], [('현', 'ncn'), ('상', 'xsncc'), ('을', 'jco')]], [[('컴퓨터', 'ncn'), ('와', 'jcj')], [('컴퓨터', 'ncn'), ('와', 'jct')]], [[('같', 'paa'), ('은', 'etm')]], [[('기계', 'ncn'), ('를', 'jco')]], [[('이용', 'ncpa'), ('해서', 'ncn')], [('이용', 'ncpa'), ('해', 'ncn'), ('서', 'jca')], [('이용', 'ncpa'), ('하', 'xsva'), ('어서', 'ecs')], [('이용', 'ncpa'), ('하', 'xsva'), ('어서', 'ecx')], [('이용', 'ncpa'), ('하', 'xsva'), ('어서', 'ef')], [('이용', 'ncpa'), ('하', 'xsva'), ('어서', 'ep'), ('어', 'ecs')], [('이용', 'ncpa'), ('하', 'xsva'), ('어서', 'ep'), ('어', 'ecx')], [('이용', 'ncpa'), ('하', 'xsva'), ('어서', 'ep'), ('어', 'ef')]], [[('모사', 'ncn')], [('모사', 'ncpa')]], [[('하', 'pvg'), ('ㄹ', 'etm'), ('수', 'nbn')], [('하', 'px'), ('ㄹ', 'etm'), ('수', 'nbn')]], [[('있', 'paa'), ('도록', 'ecs')], [('있', 'px'), ('도록', 'ecs')]], [[('연구', 'ncpa'), ('하고', 'jcj')], [('연구', 'ncpa'), ('하고', 'jct')], [('연구', 'ncpa'), ('하', 'xsva'), ('고', 'ecc')], [('연구', 'ncpa'), ('하', 'xsva'), ('고', 'ecs')], [('연구', 'ncpa'), ('하', 'xsva'), ('고', 'ecx')], [('연구', 'ncpa'), ('하', 'xsva'), ('어', 'ef'), ('고', 'jcr')]], [[('이', 'ncn'), ('를', 'jco')], [('이', 'nnc'), ('를', 'jco')], [('이', 'npd'), ('를', 'jco')], [('이르', 'paa'), ('ㄹ', 'etm')], [('이르', 'pvg'), ('ㄹ', 'etm')], [('이르', 'pvg'), ('ㄹ', 'etm')]], [[('구현', 'ncpa'), ('하', 'xsva'), ('는', 'etm')], [('구현', 'ncpa'), ('하', 'xsva'), ('어', 'ecs'), ('는', 'jxc')], [('구현', 'ncpa'), ('하', 'xsva'), ('어', 'ef'), ('는', 'etm')]], [[('인공지능', 'ncn'), ('의', 'jcm')], [('인공지능', 'ncn'), ('의', 'ncn')], [('인공', 'ncn'), ('지능', 'ncn'), ('의', 'jcm')], [('인공', 'ncn'), ('지능', 'ncn'), ('의', 'ncn')]], [[('주요', 'ncps')]], [[('분야', 'ncn')]], [[('중', 'nbn')], [('중', 'ncn')]], [[('하나', 'nnc'), ('이', 'jp'), ('다', 'ef')], [('하', 'pvg'), ('어', 'ecx'), ('나', 'px'), ('다', 'ef')], [('하', 'pvg'), ('어', 'ecx'), ('나', 'px'), ('아', 'ecs')], [('하', 'pvg'), ('어', 'ecx'), ('나', 'px'), ('아', 'ecx')], [('하', 'px'), ('어', 'ecx'), ('나', 'px'), ('다', 'ef')], [('하', 'px'), ('어', 'ecx'), ('나', 'px'), ('아', 'ecs')], [('하', 'px'), ('어', 'ecx'), ('나', 'px'), ('아', 'ecx')]]]\n"
     ]
    }
   ],
   "source": [
    "print(hannanum.analyze(text))"
   ]
  },
  {
   "cell_type": "code",
   "execution_count": 9,
   "metadata": {},
   "outputs": [
    {
     "name": "stdout",
     "output_type": "stream",
     "text": [
      "['자연어', '처리', '는', '인간', '의', '언어', '현상', '을', '컴퓨터', '와', '같', '은', '기계', '를', '이용', '하', '어서', '모사', '하', 'ㄹ', '수', '있', '도록', '연구', '하고', '이', '를', '구현', '하', '는', '인공지능', '의', '주요', '분야', '중', '하나', '이', '다']\n"
     ]
    }
   ],
   "source": [
    "print(hannanum.morphs(text))"
   ]
  },
  {
   "cell_type": "code",
   "execution_count": 10,
   "metadata": {},
   "outputs": [
    {
     "name": "stdout",
     "output_type": "stream",
     "text": [
      "['자연어', '처리', '인간', '언어', '현상', '컴퓨터', '기계', '이용', '모사', '수', '연구', '이', '구현', '인공지능', '주요', '분야', '중', '하나']\n"
     ]
    }
   ],
   "source": [
    "print(hannanum.nouns(text))"
   ]
  },
  {
   "cell_type": "code",
   "execution_count": 11,
   "metadata": {},
   "outputs": [
    {
     "name": "stdout",
     "output_type": "stream",
     "text": [
      "[('자연어', 'N'), ('처리', 'N'), ('는', 'J'), ('인간', 'N'), ('의', 'J'), ('언어', 'N'), ('현상', 'N'), ('을', 'J'), ('컴퓨터', 'N'), ('와', 'J'), ('같', 'P'), ('은', 'E'), ('기계', 'N'), ('를', 'J'), ('이용', 'N'), ('하', 'X'), ('어서', 'E'), ('모사', 'N'), ('하', 'P'), ('ㄹ', 'E'), ('수', 'N'), ('있', 'P'), ('도록', 'E'), ('연구', 'N'), ('하고', 'J'), ('이', 'N'), ('를', 'J'), ('구현', 'N'), ('하', 'X'), ('는', 'E'), ('인공지능', 'N'), ('의', 'J'), ('주요', 'N'), ('분야', 'N'), ('중', 'N'), ('하나', 'N'), ('이', 'J'), ('다', 'E')]\n"
     ]
    }
   ],
   "source": [
    "print(hannanum.pos(text))"
   ]
  },
  {
   "cell_type": "markdown",
   "metadata": {},
   "source": [
    "## Kkma Class"
   ]
  },
  {
   "cell_type": "markdown",
   "metadata": {},
   "source": [
    "- There are reports that Kkma() is weak for long strings with no spaces between words."
   ]
  },
  {
   "cell_type": "code",
   "execution_count": 3,
   "metadata": {
    "collapsed": true
   },
   "outputs": [],
   "source": [
    "from konlpy.tag import Kkma\n",
    "kkma = Kkma()"
   ]
  },
  {
   "cell_type": "code",
   "execution_count": 4,
   "metadata": {},
   "outputs": [
    {
     "name": "stdout",
     "output_type": "stream",
     "text": [
      "['자연어', '처리', '는', '인간', '의', '언어', '현상', '을', '컴퓨터', '와', '같', '은', '기계', '를', '이용', '하', '어서', '모사', '하', 'ㄹ', '수', '있', '도록', '연구', '하', '고', '이르', 'ㄹ', '구현', '하', '는', '인공지능', '의', '주요', '분야', '중', '하나', '달']\n"
     ]
    }
   ],
   "source": [
    "print(kkma.morphs(text))"
   ]
  },
  {
   "cell_type": "code",
   "execution_count": 5,
   "metadata": {},
   "outputs": [
    {
     "name": "stdout",
     "output_type": "stream",
     "text": [
      "['자연어', '처리', '인간', '언어', '현상', '컴퓨터', '기계', '이용', '모사', '수', '연구', '구현', '인공', '인공지능', '지능', '주요', '분야', '중', '하나']\n"
     ]
    }
   ],
   "source": [
    "print(kkma.nouns(text))"
   ]
  },
  {
   "cell_type": "code",
   "execution_count": 6,
   "metadata": {},
   "outputs": [
    {
     "name": "stdout",
     "output_type": "stream",
     "text": [
      "[('자연어', 'NNG'), ('처리', 'NNG'), ('는', 'JX'), ('인간', 'NNG'), ('의', 'JKG'), ('언어', 'NNG'), ('현상', 'NNG'), ('을', 'JKO'), ('컴퓨터', 'NNG'), ('와', 'JKM'), ('같', 'VA'), ('은', 'ETD'), ('기계', 'NNG'), ('를', 'JKO'), ('이용', 'NNG'), ('하', 'XSV'), ('어서', 'ECD'), ('모사', 'NNG'), ('하', 'VV'), ('ㄹ', 'ETD'), ('수', 'NNB'), ('있', 'VV'), ('도록', 'ECD'), ('연구', 'NNG'), ('하', 'XSV'), ('고', 'ECE'), ('이르', 'VV'), ('ㄹ', 'ETD'), ('구현', 'NNG'), ('하', 'XSV'), ('는', 'ETD'), ('인공지능', 'NNG'), ('의', 'JKG'), ('주요', 'NNG'), ('분야', 'NNG'), ('중', 'NNB'), ('하나', 'NR'), ('달', 'VV')]\n"
     ]
    }
   ],
   "source": [
    "print(kkma.pos(text))"
   ]
  },
  {
   "cell_type": "code",
   "execution_count": 7,
   "metadata": {},
   "outputs": [
    {
     "name": "stdout",
     "output_type": "stream",
     "text": [
      "['자연어 처리는 인간의 언어 현상을 컴퓨터와 같은 기계를 이용해서 모사 할 수 있도록 연구하고 이를 구현하는 인공지능의 주요 분야 중 하나 다']\n"
     ]
    }
   ],
   "source": [
    "print(kkma.sentences(text))"
   ]
  },
  {
   "cell_type": "markdown",
   "metadata": {},
   "source": [
    "## Komoran Class"
   ]
  },
  {
   "cell_type": "markdown",
   "metadata": {},
   "source": [
    "- a relatively new open source Korean morphological analyzer written in Java, developed by Shineware, since 2013."
   ]
  },
  {
   "cell_type": "code",
   "execution_count": 3,
   "metadata": {
    "collapsed": true
   },
   "outputs": [],
   "source": [
    "from konlpy.tag import Komoran\n",
    "komoran = Komoran()"
   ]
  },
  {
   "cell_type": "code",
   "execution_count": 4,
   "metadata": {},
   "outputs": [
    {
     "name": "stdout",
     "output_type": "stream",
     "text": [
      "['자연어 처리', '는', '인간', '의', '언어', '현상', '을', '컴퓨터', '와', '같', '은', '기계', '를', '이용', '하', '아서', '모사', '하', 'ㄹ', '수', '있', '도록', '연구', '하', '고', '이', '를', '구현', '하', '는', '인공지능', '의', '주요', '분야', '중', '하나', '다']\n"
     ]
    }
   ],
   "source": [
    "print(komoran.morphs(text))"
   ]
  },
  {
   "cell_type": "code",
   "execution_count": 5,
   "metadata": {},
   "outputs": [
    {
     "name": "stdout",
     "output_type": "stream",
     "text": [
      "['자연어 처리', '인간', '언어', '현상', '컴퓨터', '기계', '이용', '모사', '수', '연구', '구현', '인공지능', '분야', '중']\n"
     ]
    }
   ],
   "source": [
    "print(komoran.nouns(text))"
   ]
  },
  {
   "cell_type": "code",
   "execution_count": 6,
   "metadata": {},
   "outputs": [
    {
     "name": "stdout",
     "output_type": "stream",
     "text": [
      "[('자연어 처리', 'NNP'), ('는', 'JX'), ('인간', 'NNG'), ('의', 'JKG'), ('언어', 'NNG'), ('현상', 'NNG'), ('을', 'JKO'), ('컴퓨터', 'NNG'), ('와', 'JC'), ('같', 'VA'), ('은', 'ETM'), ('기계', 'NNG'), ('를', 'JKO'), ('이용', 'NNG'), ('하', 'XSV'), ('아서', 'EC'), ('모사', 'NNG'), ('하', 'VV'), ('ㄹ', 'ETM'), ('수', 'NNB'), ('있', 'VV'), ('도록', 'EC'), ('연구', 'NNG'), ('하', 'XSV'), ('고', 'EC'), ('이', 'NP'), ('를', 'JKO'), ('구현', 'NNG'), ('하', 'XSV'), ('는', 'ETM'), ('인공지능', 'NNP'), ('의', 'JKG'), ('주요', 'XR'), ('분야', 'NNG'), ('중', 'NNB'), ('하나', 'NR'), ('다', 'JX')]\n"
     ]
    }
   ],
   "source": [
    "print(komoran.pos(text))"
   ]
  },
  {
   "cell_type": "markdown",
   "metadata": {
    "collapsed": true
   },
   "source": [
    "## Mecab Class"
   ]
  },
  {
   "cell_type": "markdown",
   "metadata": {},
   "source": [
    "- MeCab, originally a Japanese morphological analyzer and POS tagger developed by the Graduate School of Informatics in Kyoto University, was modified to MeCab-ko by the Eunjeon Project to adapt to the Korean language.\n",
    "- KoNLPy’s Mecab() class is not supported on Windows machines."
   ]
  },
  {
   "cell_type": "markdown",
   "metadata": {},
   "source": [
    "## Twitter Class"
   ]
  },
  {
   "cell_type": "markdown",
   "metadata": {},
   "source": [
    "- Twitter() has changed to Okt() since v0.5.0."
   ]
  },
  {
   "cell_type": "code",
   "execution_count": 4,
   "metadata": {
    "collapsed": true
   },
   "outputs": [],
   "source": [
    "from konlpy.tag import Twitter\n",
    "twitter = Twitter()"
   ]
  },
  {
   "cell_type": "code",
   "execution_count": 5,
   "metadata": {},
   "outputs": [
    {
     "name": "stdout",
     "output_type": "stream",
     "text": [
      "['자연어', '처리', '는', '인간', '의', '언어', '현상', '을', '컴퓨터', '와', '같은', '기계', '를', '이용해서', '모사', '할', '수', '있도', '록', '연구하고', '이를', '구현', '하는', '인공', '지능', '의', '주요', '분야', '중', '하나', '다']\n"
     ]
    }
   ],
   "source": [
    "print(twitter.morphs(text))"
   ]
  },
  {
   "cell_type": "code",
   "execution_count": 6,
   "metadata": {},
   "outputs": [
    {
     "name": "stdout",
     "output_type": "stream",
     "text": [
      "['자연어', '처리', '인간', '언어', '현상', '컴퓨터', '기계', '모사', '구현', '인공', '지능', '주요', '분야', '중', '하나']\n"
     ]
    }
   ],
   "source": [
    "print(twitter.nouns(text))"
   ]
  },
  {
   "cell_type": "code",
   "execution_count": 7,
   "metadata": {},
   "outputs": [
    {
     "name": "stdout",
     "output_type": "stream",
     "text": [
      "['자연어 처리', '인간', '인간의 언어 현상', '언어 현상', '컴퓨터', '컴퓨터와 같은 기계', '기계', '모사', '구현', '구현하는 인공지능', '인공지능', '구현하는 인공지능의 주요 분야 중 하나', '인공지능의 주요 분야 중 하나', '주요 분야 중 하나', '분야 중 하나', '중 하나', '자연어', '처리', '언어', '현상', '인공', '지능', '주요', '분야', '하나']\n"
     ]
    }
   ],
   "source": [
    "print(twitter.phrases(text))"
   ]
  },
  {
   "cell_type": "code",
   "execution_count": 8,
   "metadata": {},
   "outputs": [
    {
     "name": "stdout",
     "output_type": "stream",
     "text": [
      "[('자연어', 'Noun'), ('처리', 'Noun'), ('는', 'Josa'), ('인간', 'Noun'), ('의', 'Josa'), ('언어', 'Noun'), ('현상', 'Noun'), ('을', 'Josa'), ('컴퓨터', 'Noun'), ('와', 'Josa'), ('같은', 'Adjective'), ('기계', 'Noun'), ('를', 'Josa'), ('이용해서', 'Verb'), ('모사', 'Noun'), ('할', 'Verb'), ('수', 'PreEomi'), ('있도', 'Adjective'), ('록', 'Eomi'), ('연구하고', 'Verb'), ('이를', 'Verb'), ('구현', 'Noun'), ('하는', 'Verb'), ('인공', 'Noun'), ('지능', 'Noun'), ('의', 'Josa'), ('주요', 'Noun'), ('분야', 'Noun'), ('중', 'Noun'), ('하나', 'Noun'), ('다', 'Josa')]\n"
     ]
    }
   ],
   "source": [
    "print(twitter.pos(text))"
   ]
  },
  {
   "cell_type": "markdown",
   "metadata": {},
   "source": [
    "## 클래스 별 성능 비교 "
   ]
  },
  {
   "cell_type": "markdown",
   "metadata": {},
   "source": [
    "- 출처: http://konlpy.org/ko/v0.5.1/morph/"
   ]
  },
  {
   "cell_type": "markdown",
   "metadata": {},
   "source": [
    "<html>\n",
    "    <img src=\"http://konlpy.org/ko/v0.5.1/_images/time.png\"/ width=\"400\">\n",
    "</html>"
   ]
  }
 ],
 "metadata": {
  "kernelspec": {
   "display_name": "Python 3",
   "language": "python",
   "name": "python3"
  },
  "language_info": {
   "codemirror_mode": {
    "name": "ipython",
    "version": 3
   },
   "file_extension": ".py",
   "mimetype": "text/x-python",
   "name": "python",
   "nbconvert_exporter": "python",
   "pygments_lexer": "ipython3",
   "version": "3.6.3"
  }
 },
 "nbformat": 4,
 "nbformat_minor": 2
}
